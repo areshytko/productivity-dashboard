{
 "cells": [
  {
   "cell_type": "code",
   "execution_count": 1,
   "metadata": {},
   "outputs": [
    {
     "name": "stdout",
     "output_type": "stream",
     "text": [
      "/Users/areshytko/repos/temp/productivity-dashboard\n"
     ]
    },
    {
     "data": {
      "text/plain": [
       "'/Users/areshytko/repos/temp/productivity-dashboard'"
      ]
     },
     "execution_count": 1,
     "metadata": {},
     "output_type": "execute_result"
    }
   ],
   "source": [
    "%cd ..\n",
    "%pwd"
   ]
  },
  {
   "cell_type": "code",
   "execution_count": 2,
   "metadata": {},
   "outputs": [],
   "source": [
    "from dashboard.gheets import ManualFlow, pull_sheet_data, get_data\n",
    "import pandas as pd\n",
    "import numpy as np\n",
    "import json"
   ]
  },
  {
   "cell_type": "code",
   "execution_count": 3,
   "metadata": {},
   "outputs": [],
   "source": [
    "flow = ManualFlow()\n",
    "url = flow.get_url()\n",
    "with open('notebooks/url.json', 'w') as wf:\n",
    "    json.dump(url, wf)"
   ]
  },
  {
   "cell_type": "code",
   "execution_count": 4,
   "metadata": {},
   "outputs": [],
   "source": [
    "flow.put_code(\"4/1AY0e-g4MF6Ybonk-Qai_7F8K31zJ4cSUYy72GE_S4V2gvoLyGgfHywr2iyE\")"
   ]
  },
  {
   "cell_type": "code",
   "execution_count": 4,
   "metadata": {},
   "outputs": [],
   "source": [
    "creds = flow.get_google_token()"
   ]
  },
  {
   "cell_type": "code",
   "execution_count": 5,
   "metadata": {},
   "outputs": [
    {
     "data": {
      "text/plain": [
       "<google.oauth2.credentials.Credentials at 0x1031ab438>"
      ]
     },
     "execution_count": 5,
     "metadata": {},
     "output_type": "execute_result"
    }
   ],
   "source": [
    "creds"
   ]
  },
  {
   "cell_type": "markdown",
   "metadata": {},
   "source": [
    "## Get the data"
   ]
  },
  {
   "cell_type": "code",
   "execution_count": 6,
   "metadata": {},
   "outputs": [],
   "source": [
    "from dashboard.load import Pomodoros"
   ]
  },
  {
   "cell_type": "code",
   "execution_count": 7,
   "metadata": {},
   "outputs": [],
   "source": [
    "spreadsheet_id = '1ushlABGAcGa9982wRDSEXz3bKjnaYqLE7Rl6A5w1jAg'\n",
    "range_name = 'pomodoros-2021!B:G'\n",
    "data = get_data(token=creds, spreadsheet_id=spreadsheet_id, range_name=range_name, merged_cols=['Week', 'Date'])"
   ]
  },
  {
   "cell_type": "code",
   "execution_count": 8,
   "metadata": {},
   "outputs": [
    {
     "data": {
      "text/html": [
       "<div>\n",
       "<style scoped>\n",
       "    .dataframe tbody tr th:only-of-type {\n",
       "        vertical-align: middle;\n",
       "    }\n",
       "\n",
       "    .dataframe tbody tr th {\n",
       "        vertical-align: top;\n",
       "    }\n",
       "\n",
       "    .dataframe thead th {\n",
       "        text-align: right;\n",
       "    }\n",
       "</style>\n",
       "<table border=\"1\" class=\"dataframe\">\n",
       "  <thead>\n",
       "    <tr style=\"text-align: right;\">\n",
       "      <th></th>\n",
       "      <th>Week</th>\n",
       "      <th>Date</th>\n",
       "      <th>Activity</th>\n",
       "      <th>Comment</th>\n",
       "      <th>Pomodoros</th>\n",
       "      <th>Planned</th>\n",
       "    </tr>\n",
       "  </thead>\n",
       "  <tbody>\n",
       "    <tr>\n",
       "      <th>0</th>\n",
       "      <td>2</td>\n",
       "      <td>Wednesday, January 6, 2021</td>\n",
       "      <td>Learn/System Design</td>\n",
       "      <td>None</td>\n",
       "      <td>2</td>\n",
       "      <td>4</td>\n",
       "    </tr>\n",
       "    <tr>\n",
       "      <th>1</th>\n",
       "      <td>2</td>\n",
       "      <td>Wednesday, January 6, 2021</td>\n",
       "      <td>Learn/Golang</td>\n",
       "      <td>None</td>\n",
       "      <td>2</td>\n",
       "      <td>2</td>\n",
       "    </tr>\n",
       "    <tr>\n",
       "      <th>2</th>\n",
       "      <td>2</td>\n",
       "      <td>Wednesday, January 6, 2021</td>\n",
       "      <td>Learn/Graph Algorithms</td>\n",
       "      <td>None</td>\n",
       "      <td>2</td>\n",
       "      <td>2</td>\n",
       "    </tr>\n",
       "    <tr>\n",
       "      <th>3</th>\n",
       "      <td>2</td>\n",
       "      <td>Wednesday, January 6, 2021</td>\n",
       "      <td>Learn/Personal Development</td>\n",
       "      <td>None</td>\n",
       "      <td>1</td>\n",
       "      <td>1</td>\n",
       "    </tr>\n",
       "    <tr>\n",
       "      <th>4</th>\n",
       "      <td>2</td>\n",
       "      <td>Wednesday, January 6, 2021</td>\n",
       "      <td>Do/Algorithms</td>\n",
       "      <td>None</td>\n",
       "      <td>None</td>\n",
       "      <td>2</td>\n",
       "    </tr>\n",
       "    <tr>\n",
       "      <th>...</th>\n",
       "      <td>...</td>\n",
       "      <td>...</td>\n",
       "      <td>...</td>\n",
       "      <td>...</td>\n",
       "      <td>...</td>\n",
       "      <td>...</td>\n",
       "    </tr>\n",
       "    <tr>\n",
       "      <th>326</th>\n",
       "      <td>10</td>\n",
       "      <td>Sunday, March 21, 2021</td>\n",
       "      <td>Learn/System Design</td>\n",
       "      <td>None</td>\n",
       "      <td>None</td>\n",
       "      <td>None</td>\n",
       "    </tr>\n",
       "    <tr>\n",
       "      <th>327</th>\n",
       "      <td>10</td>\n",
       "      <td>Sunday, March 21, 2021</td>\n",
       "      <td>Learn/ML</td>\n",
       "      <td>None</td>\n",
       "      <td>None</td>\n",
       "      <td>None</td>\n",
       "    </tr>\n",
       "    <tr>\n",
       "      <th>328</th>\n",
       "      <td>10</td>\n",
       "      <td>Sunday, March 21, 2021</td>\n",
       "      <td>Learn/Graph Algorithms</td>\n",
       "      <td>None</td>\n",
       "      <td>None</td>\n",
       "      <td>None</td>\n",
       "    </tr>\n",
       "    <tr>\n",
       "      <th>329</th>\n",
       "      <td>10</td>\n",
       "      <td>Sunday, March 21, 2021</td>\n",
       "      <td>Do/Work</td>\n",
       "      <td>None</td>\n",
       "      <td>None</td>\n",
       "      <td>None</td>\n",
       "    </tr>\n",
       "    <tr>\n",
       "      <th>330</th>\n",
       "      <td>10</td>\n",
       "      <td>Sunday, March 21, 2021</td>\n",
       "      <td>Learn/Personal Development</td>\n",
       "      <td>None</td>\n",
       "      <td>None</td>\n",
       "      <td>None</td>\n",
       "    </tr>\n",
       "  </tbody>\n",
       "</table>\n",
       "<p>331 rows × 6 columns</p>\n",
       "</div>"
      ],
      "text/plain": [
       "    Week                        Date                    Activity Comment  \\\n",
       "0      2  Wednesday, January 6, 2021         Learn/System Design    None   \n",
       "1      2  Wednesday, January 6, 2021                Learn/Golang    None   \n",
       "2      2  Wednesday, January 6, 2021      Learn/Graph Algorithms    None   \n",
       "3      2  Wednesday, January 6, 2021  Learn/Personal Development    None   \n",
       "4      2  Wednesday, January 6, 2021               Do/Algorithms    None   \n",
       "..   ...                         ...                         ...     ...   \n",
       "326   10      Sunday, March 21, 2021         Learn/System Design    None   \n",
       "327   10      Sunday, March 21, 2021                    Learn/ML    None   \n",
       "328   10      Sunday, March 21, 2021      Learn/Graph Algorithms    None   \n",
       "329   10      Sunday, March 21, 2021                     Do/Work    None   \n",
       "330   10      Sunday, March 21, 2021  Learn/Personal Development    None   \n",
       "\n",
       "    Pomodoros Planned  \n",
       "0           2       4  \n",
       "1           2       2  \n",
       "2           2       2  \n",
       "3           1       1  \n",
       "4        None       2  \n",
       "..        ...     ...  \n",
       "326      None    None  \n",
       "327      None    None  \n",
       "328      None    None  \n",
       "329      None    None  \n",
       "330      None    None  \n",
       "\n",
       "[331 rows x 6 columns]"
      ]
     },
     "execution_count": 8,
     "metadata": {},
     "output_type": "execute_result"
    }
   ],
   "source": [
    "data"
   ]
  },
  {
   "cell_type": "code",
   "execution_count": 9,
   "metadata": {},
   "outputs": [
    {
     "name": "stdout",
     "output_type": "stream",
     "text": [
      "<class 'pandas.core.frame.DataFrame'>\n",
      "RangeIndex: 331 entries, 0 to 330\n",
      "Data columns (total 6 columns):\n",
      " #   Column     Non-Null Count  Dtype         \n",
      "---  ------     --------------  -----         \n",
      " 0   Week       331 non-null    int16         \n",
      " 1   Date       331 non-null    datetime64[ns]\n",
      " 2   Activity   331 non-null    object        \n",
      " 3   Comment    75 non-null     object        \n",
      " 4   Pomodoros  100 non-null    float64       \n",
      " 5   Planned    225 non-null    float64       \n",
      "dtypes: datetime64[ns](1), float64(2), int16(1), object(2)\n",
      "memory usage: 13.7+ KB\n"
     ]
    }
   ],
   "source": [
    "pm = Pomodoros.convert(data)\n",
    "pm.df.info()"
   ]
  },
  {
   "cell_type": "markdown",
   "metadata": {},
   "source": [
    "### Raw Data"
   ]
  },
  {
   "cell_type": "code",
   "execution_count": 15,
   "metadata": {},
   "outputs": [],
   "source": [
    "spreadsheet_id = '1ushlABGAcGa9982wRDSEXz3bKjnaYqLE7Rl6A5w1jAg'\n",
    "range_name = 'pomodoros-2021!B:G'\n",
    "data = pull_sheet_data(creds, spreadsheet_id, range_name)"
   ]
  },
  {
   "cell_type": "code",
   "execution_count": 16,
   "metadata": {},
   "outputs": [
    {
     "name": "stdout",
     "output_type": "stream",
     "text": [
      "{3, 4, 5, 6}\n"
     ]
    }
   ],
   "source": [
    "lens = set()\n",
    "for x in data:\n",
    "    lens.add(len(x))\n",
    "print(lens)"
   ]
  },
  {
   "cell_type": "code",
   "execution_count": 17,
   "metadata": {},
   "outputs": [
    {
     "data": {
      "text/plain": [
       "['Week', 'Date', 'Activity', 'Comment', 'Pomodoros', 'Planned']"
      ]
     },
     "execution_count": 17,
     "metadata": {},
     "output_type": "execute_result"
    }
   ],
   "source": [
    "data[0]"
   ]
  },
  {
   "cell_type": "code",
   "execution_count": 18,
   "metadata": {},
   "outputs": [
    {
     "data": {
      "text/html": [
       "<div>\n",
       "<style scoped>\n",
       "    .dataframe tbody tr th:only-of-type {\n",
       "        vertical-align: middle;\n",
       "    }\n",
       "\n",
       "    .dataframe tbody tr th {\n",
       "        vertical-align: top;\n",
       "    }\n",
       "\n",
       "    .dataframe thead th {\n",
       "        text-align: right;\n",
       "    }\n",
       "</style>\n",
       "<table border=\"1\" class=\"dataframe\">\n",
       "  <thead>\n",
       "    <tr style=\"text-align: right;\">\n",
       "      <th></th>\n",
       "      <th>Week</th>\n",
       "      <th>Date</th>\n",
       "      <th>Activity</th>\n",
       "      <th>Comment</th>\n",
       "      <th>Pomodoros</th>\n",
       "      <th>Planned</th>\n",
       "    </tr>\n",
       "  </thead>\n",
       "  <tbody>\n",
       "    <tr>\n",
       "      <th>0</th>\n",
       "      <td>2</td>\n",
       "      <td>Wednesday, January 6, 2021</td>\n",
       "      <td>Learn/System Design</td>\n",
       "      <td></td>\n",
       "      <td>2</td>\n",
       "      <td>4</td>\n",
       "    </tr>\n",
       "    <tr>\n",
       "      <th>1</th>\n",
       "      <td>2</td>\n",
       "      <td>Wednesday, January 6, 2021</td>\n",
       "      <td>Learn/Golang</td>\n",
       "      <td></td>\n",
       "      <td>2</td>\n",
       "      <td>2</td>\n",
       "    </tr>\n",
       "    <tr>\n",
       "      <th>2</th>\n",
       "      <td>2</td>\n",
       "      <td>Wednesday, January 6, 2021</td>\n",
       "      <td>Learn/Graph Algorithms</td>\n",
       "      <td></td>\n",
       "      <td>2</td>\n",
       "      <td>2</td>\n",
       "    </tr>\n",
       "    <tr>\n",
       "      <th>3</th>\n",
       "      <td>2</td>\n",
       "      <td>Wednesday, January 6, 2021</td>\n",
       "      <td>Learn/Personal Development</td>\n",
       "      <td></td>\n",
       "      <td>1</td>\n",
       "      <td>1</td>\n",
       "    </tr>\n",
       "    <tr>\n",
       "      <th>4</th>\n",
       "      <td>2</td>\n",
       "      <td>Wednesday, January 6, 2021</td>\n",
       "      <td>Do/Algorithms</td>\n",
       "      <td></td>\n",
       "      <td></td>\n",
       "      <td>2</td>\n",
       "    </tr>\n",
       "  </tbody>\n",
       "</table>\n",
       "</div>"
      ],
      "text/plain": [
       "  Week                        Date                    Activity Comment  \\\n",
       "0    2  Wednesday, January 6, 2021         Learn/System Design           \n",
       "1    2  Wednesday, January 6, 2021                Learn/Golang           \n",
       "2    2  Wednesday, January 6, 2021      Learn/Graph Algorithms           \n",
       "3    2  Wednesday, January 6, 2021  Learn/Personal Development           \n",
       "4    2  Wednesday, January 6, 2021               Do/Algorithms           \n",
       "\n",
       "  Pomodoros Planned  \n",
       "0         2       4  \n",
       "1         2       2  \n",
       "2         2       2  \n",
       "3         1       1  \n",
       "4                 2  "
      ]
     },
     "execution_count": 18,
     "metadata": {},
     "output_type": "execute_result"
    }
   ],
   "source": [
    "df = pd.DataFrame(data[1:], columns=data[0])\n",
    "df[['Week', 'Date']] = df[['Week', 'Date']].replace([''], [None]).ffill()\n",
    "df.head()"
   ]
  },
  {
   "cell_type": "code",
   "execution_count": 24,
   "metadata": {},
   "outputs": [
    {
     "name": "stdout",
     "output_type": "stream",
     "text": [
      "<class 'pandas.core.frame.DataFrame'>\n",
      "RangeIndex: 220 entries, 0 to 219\n",
      "Data columns (total 7 columns):\n",
      " #   Column     Non-Null Count  Dtype \n",
      "---  ------     --------------  ----- \n",
      " 0   Week       220 non-null    object\n",
      " 1   Date       220 non-null    object\n",
      " 2   Activity   220 non-null    object\n",
      " 3   Tags       178 non-null    object\n",
      " 4   Comment    172 non-null    object\n",
      " 5   Pomodoros  169 non-null    object\n",
      " 6   Planned    163 non-null    object\n",
      "dtypes: object(7)\n",
      "memory usage: 12.2+ KB\n"
     ]
    }
   ],
   "source": [
    "df.info()"
   ]
  },
  {
   "cell_type": "code",
   "execution_count": 28,
   "metadata": {},
   "outputs": [
    {
     "data": {
      "text/plain": [
       "0      4\n",
       "1      2\n",
       "2      2\n",
       "3      1\n",
       "4      2\n",
       "      ..\n",
       "215    0\n",
       "216    0\n",
       "217    0\n",
       "218    0\n",
       "219    0\n",
       "Name: Planned, Length: 220, dtype: int32"
      ]
     },
     "execution_count": 28,
     "metadata": {},
     "output_type": "execute_result"
    }
   ],
   "source": [
    "df.Planned.fillna(0).astype(np.int32)"
   ]
  },
  {
   "cell_type": "code",
   "execution_count": 31,
   "metadata": {},
   "outputs": [
    {
     "data": {
      "text/plain": [
       "0     2021-01-06\n",
       "1     2021-01-06\n",
       "2     2021-01-06\n",
       "3     2021-01-06\n",
       "4     2021-01-06\n",
       "         ...    \n",
       "215   2021-02-14\n",
       "216   2021-02-14\n",
       "217   2021-02-14\n",
       "218   2021-02-14\n",
       "219   2021-02-14\n",
       "Name: Date, Length: 220, dtype: datetime64[ns]"
      ]
     },
     "execution_count": 31,
     "metadata": {},
     "output_type": "execute_result"
    }
   ],
   "source": [
    "pd.to_datetime(df.Date)"
   ]
  },
  {
   "cell_type": "code",
   "execution_count": 32,
   "metadata": {},
   "outputs": [
    {
     "data": {
      "text/plain": [
       "Week                 object\n",
       "Date         datetime64[ns]\n",
       "Activity             object\n",
       "Tags                 object\n",
       "Comment              object\n",
       "Pomodoros            object\n",
       "Planned              object\n",
       "dtype: object"
      ]
     },
     "execution_count": 32,
     "metadata": {},
     "output_type": "execute_result"
    }
   ],
   "source": [
    "df.Date = pd.to_datetime(df.Date)\n",
    "df.dtypes"
   ]
  },
  {
   "cell_type": "code",
   "execution_count": 35,
   "metadata": {},
   "outputs": [
    {
     "data": {
      "text/plain": [
       "dtype('O')"
      ]
     },
     "execution_count": 35,
     "metadata": {},
     "output_type": "execute_result"
    }
   ],
   "source": [
    "x = df.dtypes['Week']\n",
    "x"
   ]
  },
  {
   "cell_type": "code",
   "execution_count": 36,
   "metadata": {},
   "outputs": [
    {
     "data": {
      "text/plain": [
       "numpy.dtype"
      ]
     },
     "execution_count": 36,
     "metadata": {},
     "output_type": "execute_result"
    }
   ],
   "source": [
    "type(x)"
   ]
  },
  {
   "cell_type": "code",
   "execution_count": 37,
   "metadata": {},
   "outputs": [
    {
     "data": {
      "text/plain": [
       "numpy.datetime64"
      ]
     },
     "execution_count": 37,
     "metadata": {},
     "output_type": "execute_result"
    }
   ],
   "source": [
    "np.datetime64"
   ]
  },
  {
   "cell_type": "code",
   "execution_count": 38,
   "metadata": {},
   "outputs": [
    {
     "data": {
      "text/plain": [
       "\u001b[0;31mSignature:\u001b[0m\n",
       "\u001b[0mdf\u001b[0m\u001b[0;34m.\u001b[0m\u001b[0mfillna\u001b[0m\u001b[0;34m(\u001b[0m\u001b[0;34m\u001b[0m\n",
       "\u001b[0;34m\u001b[0m    \u001b[0mvalue\u001b[0m\u001b[0;34m=\u001b[0m\u001b[0;32mNone\u001b[0m\u001b[0;34m,\u001b[0m\u001b[0;34m\u001b[0m\n",
       "\u001b[0;34m\u001b[0m    \u001b[0mmethod\u001b[0m\u001b[0;34m=\u001b[0m\u001b[0;32mNone\u001b[0m\u001b[0;34m,\u001b[0m\u001b[0;34m\u001b[0m\n",
       "\u001b[0;34m\u001b[0m    \u001b[0maxis\u001b[0m\u001b[0;34m=\u001b[0m\u001b[0;32mNone\u001b[0m\u001b[0;34m,\u001b[0m\u001b[0;34m\u001b[0m\n",
       "\u001b[0;34m\u001b[0m    \u001b[0minplace\u001b[0m\u001b[0;34m=\u001b[0m\u001b[0;32mFalse\u001b[0m\u001b[0;34m,\u001b[0m\u001b[0;34m\u001b[0m\n",
       "\u001b[0;34m\u001b[0m    \u001b[0mlimit\u001b[0m\u001b[0;34m=\u001b[0m\u001b[0;32mNone\u001b[0m\u001b[0;34m,\u001b[0m\u001b[0;34m\u001b[0m\n",
       "\u001b[0;34m\u001b[0m    \u001b[0mdowncast\u001b[0m\u001b[0;34m=\u001b[0m\u001b[0;32mNone\u001b[0m\u001b[0;34m,\u001b[0m\u001b[0;34m\u001b[0m\n",
       "\u001b[0;34m\u001b[0m\u001b[0;34m)\u001b[0m \u001b[0;34m->\u001b[0m \u001b[0;34m'Optional[DataFrame]'\u001b[0m\u001b[0;34m\u001b[0m\u001b[0;34m\u001b[0m\u001b[0m\n",
       "\u001b[0;31mDocstring:\u001b[0m\n",
       "Fill NA/NaN values using the specified method.\n",
       "\n",
       "Parameters\n",
       "----------\n",
       "value : scalar, dict, Series, or DataFrame\n",
       "    Value to use to fill holes (e.g. 0), alternately a\n",
       "    dict/Series/DataFrame of values specifying which value to use for\n",
       "    each index (for a Series) or column (for a DataFrame).  Values not\n",
       "    in the dict/Series/DataFrame will not be filled. This value cannot\n",
       "    be a list.\n",
       "method : {'backfill', 'bfill', 'pad', 'ffill', None}, default None\n",
       "    Method to use for filling holes in reindexed Series\n",
       "    pad / ffill: propagate last valid observation forward to next valid\n",
       "    backfill / bfill: use next valid observation to fill gap.\n",
       "axis : {0 or 'index', 1 or 'columns'}\n",
       "    Axis along which to fill missing values.\n",
       "inplace : bool, default False\n",
       "    If True, fill in-place. Note: this will modify any\n",
       "    other views on this object (e.g., a no-copy slice for a column in a\n",
       "    DataFrame).\n",
       "limit : int, default None\n",
       "    If method is specified, this is the maximum number of consecutive\n",
       "    NaN values to forward/backward fill. In other words, if there is\n",
       "    a gap with more than this number of consecutive NaNs, it will only\n",
       "    be partially filled. If method is not specified, this is the\n",
       "    maximum number of entries along the entire axis where NaNs will be\n",
       "    filled. Must be greater than 0 if not None.\n",
       "downcast : dict, default is None\n",
       "    A dict of item->dtype of what to downcast if possible,\n",
       "    or the string 'infer' which will try to downcast to an appropriate\n",
       "    equal type (e.g. float64 to int64 if possible).\n",
       "\n",
       "Returns\n",
       "-------\n",
       "DataFrame or None\n",
       "    Object with missing values filled or None if ``inplace=True``.\n",
       "\n",
       "See Also\n",
       "--------\n",
       "interpolate : Fill NaN values using interpolation.\n",
       "reindex : Conform object to new index.\n",
       "asfreq : Convert TimeSeries to specified frequency.\n",
       "\n",
       "Examples\n",
       "--------\n",
       ">>> df = pd.DataFrame([[np.nan, 2, np.nan, 0],\n",
       "...                    [3, 4, np.nan, 1],\n",
       "...                    [np.nan, np.nan, np.nan, 5],\n",
       "...                    [np.nan, 3, np.nan, 4]],\n",
       "...                   columns=list('ABCD'))\n",
       ">>> df\n",
       "     A    B   C  D\n",
       "0  NaN  2.0 NaN  0\n",
       "1  3.0  4.0 NaN  1\n",
       "2  NaN  NaN NaN  5\n",
       "3  NaN  3.0 NaN  4\n",
       "\n",
       "Replace all NaN elements with 0s.\n",
       "\n",
       ">>> df.fillna(0)\n",
       "    A   B   C   D\n",
       "0   0.0 2.0 0.0 0\n",
       "1   3.0 4.0 0.0 1\n",
       "2   0.0 0.0 0.0 5\n",
       "3   0.0 3.0 0.0 4\n",
       "\n",
       "We can also propagate non-null values forward or backward.\n",
       "\n",
       ">>> df.fillna(method='ffill')\n",
       "    A   B   C   D\n",
       "0   NaN 2.0 NaN 0\n",
       "1   3.0 4.0 NaN 1\n",
       "2   3.0 4.0 NaN 5\n",
       "3   3.0 3.0 NaN 4\n",
       "\n",
       "Replace all NaN elements in column 'A', 'B', 'C', and 'D', with 0, 1,\n",
       "2, and 3 respectively.\n",
       "\n",
       ">>> values = {'A': 0, 'B': 1, 'C': 2, 'D': 3}\n",
       ">>> df.fillna(value=values)\n",
       "    A   B   C   D\n",
       "0   0.0 2.0 2.0 0\n",
       "1   3.0 4.0 2.0 1\n",
       "2   0.0 1.0 2.0 5\n",
       "3   0.0 3.0 2.0 4\n",
       "\n",
       "Only replace the first NaN element.\n",
       "\n",
       ">>> df.fillna(value=values, limit=1)\n",
       "    A   B   C   D\n",
       "0   0.0 2.0 2.0 0\n",
       "1   3.0 4.0 NaN 1\n",
       "2   NaN 1.0 NaN 5\n",
       "3   NaN 3.0 NaN 4\n",
       "\u001b[0;31mFile:\u001b[0m      ~/.pyenv/versions/3.7.3/lib/python3.7/site-packages/pandas/core/frame.py\n",
       "\u001b[0;31mType:\u001b[0m      method\n"
      ]
     },
     "metadata": {},
     "output_type": "display_data"
    }
   ],
   "source": [
    "df.fillna?"
   ]
  },
  {
   "cell_type": "markdown",
   "metadata": {},
   "source": [
    "## Get the catalog"
   ]
  },
  {
   "cell_type": "code",
   "execution_count": 23,
   "metadata": {},
   "outputs": [],
   "source": [
    "from dashboard.load import ActivitiesCatalog"
   ]
  },
  {
   "cell_type": "code",
   "execution_count": 24,
   "metadata": {},
   "outputs": [],
   "source": [
    "spreadsheet_id = '1ushlABGAcGa9982wRDSEXz3bKjnaYqLE7Rl6A5w1jAg'\n",
    "range_name = 'activities-catalog!B:E'\n",
    "data = get_data(token=creds, spreadsheet_id=spreadsheet_id, range_name=range_name)"
   ]
  },
  {
   "cell_type": "code",
   "execution_count": 25,
   "metadata": {},
   "outputs": [
    {
     "data": {
      "text/html": [
       "<div>\n",
       "<style scoped>\n",
       "    .dataframe tbody tr th:only-of-type {\n",
       "        vertical-align: middle;\n",
       "    }\n",
       "\n",
       "    .dataframe tbody tr th {\n",
       "        vertical-align: top;\n",
       "    }\n",
       "\n",
       "    .dataframe thead th {\n",
       "        text-align: right;\n",
       "    }\n",
       "</style>\n",
       "<table border=\"1\" class=\"dataframe\">\n",
       "  <thead>\n",
       "    <tr style=\"text-align: right;\">\n",
       "      <th></th>\n",
       "      <th>Activity</th>\n",
       "      <th>Tags</th>\n",
       "      <th>Active</th>\n",
       "      <th>Comment</th>\n",
       "    </tr>\n",
       "  </thead>\n",
       "  <tbody>\n",
       "    <tr>\n",
       "      <th>0</th>\n",
       "      <td>Learn/Graph Algorithms</td>\n",
       "      <td>learn,hobby,green</td>\n",
       "      <td>TRUE</td>\n",
       "      <td>obsidian://open?vault=Zettelkasten&amp;file=2020-1...</td>\n",
       "    </tr>\n",
       "    <tr>\n",
       "      <th>1</th>\n",
       "      <td>Learn/Personal Development</td>\n",
       "      <td>learn,personal</td>\n",
       "      <td>TRUE</td>\n",
       "      <td>None</td>\n",
       "    </tr>\n",
       "    <tr>\n",
       "      <th>2</th>\n",
       "      <td>Personal Dashboard</td>\n",
       "      <td>do,hobby,green</td>\n",
       "      <td>TRUE</td>\n",
       "      <td>obsidian://open?vault=Zettelkasten&amp;file=%F0%9F...</td>\n",
       "    </tr>\n",
       "    <tr>\n",
       "      <th>3</th>\n",
       "      <td>Learn/Data Engineering</td>\n",
       "      <td>learn,career,green</td>\n",
       "      <td>TRUE</td>\n",
       "      <td>obsidian://open?vault=Zettelkasten&amp;file=%F0%9F...</td>\n",
       "    </tr>\n",
       "    <tr>\n",
       "      <th>4</th>\n",
       "      <td>Learn/How to Write</td>\n",
       "      <td>green,learn,personal</td>\n",
       "      <td>TRUE</td>\n",
       "      <td>obsidian://open?vault=Zettelkasten&amp;file=%F0%9F...</td>\n",
       "    </tr>\n",
       "    <tr>\n",
       "      <th>5</th>\n",
       "      <td>Learn/Medium Articles</td>\n",
       "      <td>learn,green</td>\n",
       "      <td>TRUE</td>\n",
       "      <td>None</td>\n",
       "    </tr>\n",
       "    <tr>\n",
       "      <th>6</th>\n",
       "      <td>Do/Work</td>\n",
       "      <td>career,red</td>\n",
       "      <td>TRUE</td>\n",
       "      <td>None</td>\n",
       "    </tr>\n",
       "    <tr>\n",
       "      <th>7</th>\n",
       "      <td>Do/Trend Detection</td>\n",
       "      <td>do,green,hobby</td>\n",
       "      <td>FALSE</td>\n",
       "      <td>obsidian://open?vault=Zettelkasten&amp;file=%F0%9F...</td>\n",
       "    </tr>\n",
       "    <tr>\n",
       "      <th>8</th>\n",
       "      <td>Do/Algorithms</td>\n",
       "      <td>do,career,green</td>\n",
       "      <td>FALSE</td>\n",
       "      <td>None</td>\n",
       "    </tr>\n",
       "    <tr>\n",
       "      <th>9</th>\n",
       "      <td>Learn/System Design</td>\n",
       "      <td>learn,career,green</td>\n",
       "      <td>FALSE</td>\n",
       "      <td>None</td>\n",
       "    </tr>\n",
       "    <tr>\n",
       "      <th>10</th>\n",
       "      <td>Learn/Golang</td>\n",
       "      <td>learn,career,green</td>\n",
       "      <td>FALSE</td>\n",
       "      <td>None</td>\n",
       "    </tr>\n",
       "    <tr>\n",
       "      <th>11</th>\n",
       "      <td>Learn/Algorithms</td>\n",
       "      <td>learn,career,green</td>\n",
       "      <td>FALSE</td>\n",
       "      <td>None</td>\n",
       "    </tr>\n",
       "    <tr>\n",
       "      <th>12</th>\n",
       "      <td>Do/Data Engineering</td>\n",
       "      <td>do,career,green</td>\n",
       "      <td>FALSE</td>\n",
       "      <td>None</td>\n",
       "    </tr>\n",
       "    <tr>\n",
       "      <th>13</th>\n",
       "      <td>Do/Graph Analytics</td>\n",
       "      <td>do,hobby,green</td>\n",
       "      <td>FALSE</td>\n",
       "      <td>None</td>\n",
       "    </tr>\n",
       "    <tr>\n",
       "      <th>14</th>\n",
       "      <td>Do/Handson ML</td>\n",
       "      <td>do,hobby,green</td>\n",
       "      <td>FALSE</td>\n",
       "      <td>obsidian://open?vault=Zettelkasten&amp;file=%F0%9F...</td>\n",
       "    </tr>\n",
       "    <tr>\n",
       "      <th>15</th>\n",
       "      <td>Planning</td>\n",
       "      <td>None</td>\n",
       "      <td>FALSE</td>\n",
       "      <td>None</td>\n",
       "    </tr>\n",
       "    <tr>\n",
       "      <th>16</th>\n",
       "      <td>Utilities</td>\n",
       "      <td>red</td>\n",
       "      <td>FALSE</td>\n",
       "      <td>утилитарные дела, которые нужно сделать</td>\n",
       "    </tr>\n",
       "    <tr>\n",
       "      <th>17</th>\n",
       "      <td>Learn/ML</td>\n",
       "      <td>green,learn,hobby</td>\n",
       "      <td>FALSE</td>\n",
       "      <td>obsidian://open?vault=Zettelkasten&amp;file=%F0%9F...</td>\n",
       "    </tr>\n",
       "  </tbody>\n",
       "</table>\n",
       "</div>"
      ],
      "text/plain": [
       "                      Activity                  Tags Active  \\\n",
       "0       Learn/Graph Algorithms     learn,hobby,green   TRUE   \n",
       "1   Learn/Personal Development        learn,personal   TRUE   \n",
       "2           Personal Dashboard        do,hobby,green   TRUE   \n",
       "3       Learn/Data Engineering    learn,career,green   TRUE   \n",
       "4           Learn/How to Write  green,learn,personal   TRUE   \n",
       "5        Learn/Medium Articles           learn,green   TRUE   \n",
       "6                      Do/Work            career,red   TRUE   \n",
       "7           Do/Trend Detection        do,green,hobby  FALSE   \n",
       "8                Do/Algorithms       do,career,green  FALSE   \n",
       "9          Learn/System Design    learn,career,green  FALSE   \n",
       "10                Learn/Golang    learn,career,green  FALSE   \n",
       "11            Learn/Algorithms    learn,career,green  FALSE   \n",
       "12         Do/Data Engineering       do,career,green  FALSE   \n",
       "13          Do/Graph Analytics        do,hobby,green  FALSE   \n",
       "14               Do/Handson ML        do,hobby,green  FALSE   \n",
       "15                    Planning                  None  FALSE   \n",
       "16                   Utilities                   red  FALSE   \n",
       "17                    Learn/ML     green,learn,hobby  FALSE   \n",
       "\n",
       "                                              Comment  \n",
       "0   obsidian://open?vault=Zettelkasten&file=2020-1...  \n",
       "1                                                None  \n",
       "2   obsidian://open?vault=Zettelkasten&file=%F0%9F...  \n",
       "3   obsidian://open?vault=Zettelkasten&file=%F0%9F...  \n",
       "4   obsidian://open?vault=Zettelkasten&file=%F0%9F...  \n",
       "5                                                None  \n",
       "6                                                None  \n",
       "7   obsidian://open?vault=Zettelkasten&file=%F0%9F...  \n",
       "8                                                None  \n",
       "9                                                None  \n",
       "10                                               None  \n",
       "11                                               None  \n",
       "12                                               None  \n",
       "13                                               None  \n",
       "14  obsidian://open?vault=Zettelkasten&file=%F0%9F...  \n",
       "15                                               None  \n",
       "16            утилитарные дела, которые нужно сделать  \n",
       "17  obsidian://open?vault=Zettelkasten&file=%F0%9F...  "
      ]
     },
     "execution_count": 25,
     "metadata": {},
     "output_type": "execute_result"
    }
   ],
   "source": [
    "data"
   ]
  },
  {
   "cell_type": "code",
   "execution_count": 26,
   "metadata": {},
   "outputs": [],
   "source": [
    "data.Active = data.Active.map(lambda x: x == 'TRUE')"
   ]
  },
  {
   "cell_type": "code",
   "execution_count": 27,
   "metadata": {},
   "outputs": [],
   "source": [
    "data.Tags = data.Tags.map(lambda x: x.split(',') if x else [])"
   ]
  },
  {
   "cell_type": "code",
   "execution_count": 28,
   "metadata": {},
   "outputs": [],
   "source": [
    "activities = data.to_dict(orient='records')"
   ]
  },
  {
   "cell_type": "code",
   "execution_count": 29,
   "metadata": {},
   "outputs": [],
   "source": [
    "activities = [{k:v for k, v in x.items() if v is not None } for x in activities]"
   ]
  },
  {
   "cell_type": "code",
   "execution_count": 30,
   "metadata": {},
   "outputs": [],
   "source": [
    "activities = ActivitiesCatalog(activities)"
   ]
  },
  {
   "cell_type": "markdown",
   "metadata": {},
   "source": [
    "## Merge data"
   ]
  },
  {
   "cell_type": "code",
   "execution_count": 31,
   "metadata": {},
   "outputs": [
    {
     "data": {
      "text/html": [
       "<div>\n",
       "<style scoped>\n",
       "    .dataframe tbody tr th:only-of-type {\n",
       "        vertical-align: middle;\n",
       "    }\n",
       "\n",
       "    .dataframe tbody tr th {\n",
       "        vertical-align: top;\n",
       "    }\n",
       "\n",
       "    .dataframe thead th {\n",
       "        text-align: right;\n",
       "    }\n",
       "</style>\n",
       "<table border=\"1\" class=\"dataframe\">\n",
       "  <thead>\n",
       "    <tr style=\"text-align: right;\">\n",
       "      <th></th>\n",
       "      <th>Week</th>\n",
       "      <th>Date</th>\n",
       "      <th>Activity</th>\n",
       "      <th>Comment</th>\n",
       "      <th>Pomodoros</th>\n",
       "      <th>Planned</th>\n",
       "    </tr>\n",
       "  </thead>\n",
       "  <tbody>\n",
       "    <tr>\n",
       "      <th>0</th>\n",
       "      <td>2</td>\n",
       "      <td>2021-01-06</td>\n",
       "      <td>Learn/System Design</td>\n",
       "      <td>None</td>\n",
       "      <td>2.0</td>\n",
       "      <td>4.0</td>\n",
       "    </tr>\n",
       "    <tr>\n",
       "      <th>1</th>\n",
       "      <td>2</td>\n",
       "      <td>2021-01-06</td>\n",
       "      <td>Learn/Golang</td>\n",
       "      <td>None</td>\n",
       "      <td>2.0</td>\n",
       "      <td>2.0</td>\n",
       "    </tr>\n",
       "    <tr>\n",
       "      <th>2</th>\n",
       "      <td>2</td>\n",
       "      <td>2021-01-06</td>\n",
       "      <td>Learn/Graph Algorithms</td>\n",
       "      <td>None</td>\n",
       "      <td>2.0</td>\n",
       "      <td>2.0</td>\n",
       "    </tr>\n",
       "    <tr>\n",
       "      <th>3</th>\n",
       "      <td>2</td>\n",
       "      <td>2021-01-06</td>\n",
       "      <td>Learn/Personal Development</td>\n",
       "      <td>None</td>\n",
       "      <td>1.0</td>\n",
       "      <td>1.0</td>\n",
       "    </tr>\n",
       "    <tr>\n",
       "      <th>4</th>\n",
       "      <td>2</td>\n",
       "      <td>2021-01-06</td>\n",
       "      <td>Do/Algorithms</td>\n",
       "      <td>None</td>\n",
       "      <td>NaN</td>\n",
       "      <td>2.0</td>\n",
       "    </tr>\n",
       "  </tbody>\n",
       "</table>\n",
       "</div>"
      ],
      "text/plain": [
       "   Week       Date                    Activity Comment  Pomodoros  Planned\n",
       "0     2 2021-01-06         Learn/System Design    None        2.0      4.0\n",
       "1     2 2021-01-06                Learn/Golang    None        2.0      2.0\n",
       "2     2 2021-01-06      Learn/Graph Algorithms    None        2.0      2.0\n",
       "3     2 2021-01-06  Learn/Personal Development    None        1.0      1.0\n",
       "4     2 2021-01-06               Do/Algorithms    None        NaN      2.0"
      ]
     },
     "execution_count": 31,
     "metadata": {},
     "output_type": "execute_result"
    }
   ],
   "source": [
    "pm.df.head()"
   ]
  },
  {
   "cell_type": "code",
   "execution_count": 32,
   "metadata": {},
   "outputs": [],
   "source": [
    "activity_dict = {x['Activity']: x['Tags'] for x in activities.data}"
   ]
  },
  {
   "cell_type": "code",
   "execution_count": 33,
   "metadata": {},
   "outputs": [],
   "source": [
    "tags = pm.df.Activity.map(lambda x: activity_dict[x])"
   ]
  },
  {
   "cell_type": "code",
   "execution_count": 34,
   "metadata": {},
   "outputs": [
    {
     "data": {
      "text/plain": [
       "0      [learn, career, green]\n",
       "1      [learn, career, green]\n",
       "2       [learn, hobby, green]\n",
       "3           [learn, personal]\n",
       "4         [do, career, green]\n",
       "                ...          \n",
       "326    [learn, career, green]\n",
       "327     [green, learn, hobby]\n",
       "328     [learn, hobby, green]\n",
       "329             [career, red]\n",
       "330         [learn, personal]\n",
       "Name: Activity, Length: 331, dtype: object"
      ]
     },
     "execution_count": 34,
     "metadata": {},
     "output_type": "execute_result"
    }
   ],
   "source": [
    "tags"
   ]
  },
  {
   "cell_type": "markdown",
   "metadata": {},
   "source": [
    "## Create boolean dataframe"
   ]
  },
  {
   "cell_type": "code",
   "execution_count": 35,
   "metadata": {},
   "outputs": [],
   "source": [
    "from typing import List, Any\n",
    "\n",
    "def boolean_df(item_lists: pd.Series, unique_items: List[Any]) -> pd.DataFrame:\n",
    "    bool_dict = {}\n",
    "    \n",
    "    for item in unique_items:\n",
    "        bool_dict[item] = item_lists.apply(lambda x: item in x)\n",
    "    return pd.DataFrame(bool_dict)"
   ]
  },
  {
   "cell_type": "code",
   "execution_count": 12,
   "metadata": {},
   "outputs": [
    {
     "data": {
      "text/plain": [
       "0    [foo, bar, buz]\n",
       "1                 []\n",
       "2         [foo, buz]\n",
       "3              [buz]\n",
       "dtype: object"
      ]
     },
     "execution_count": 12,
     "metadata": {},
     "output_type": "execute_result"
    }
   ],
   "source": [
    "u = ['foo', 'bar', 'buz']\n",
    "x = pd.Series([['foo', 'bar', 'buz'], [], ['foo', 'buz'], ['buz']])\n",
    "x"
   ]
  },
  {
   "cell_type": "code",
   "execution_count": 13,
   "metadata": {},
   "outputs": [
    {
     "data": {
      "text/html": [
       "<div>\n",
       "<style scoped>\n",
       "    .dataframe tbody tr th:only-of-type {\n",
       "        vertical-align: middle;\n",
       "    }\n",
       "\n",
       "    .dataframe tbody tr th {\n",
       "        vertical-align: top;\n",
       "    }\n",
       "\n",
       "    .dataframe thead th {\n",
       "        text-align: right;\n",
       "    }\n",
       "</style>\n",
       "<table border=\"1\" class=\"dataframe\">\n",
       "  <thead>\n",
       "    <tr style=\"text-align: right;\">\n",
       "      <th></th>\n",
       "      <th>foo</th>\n",
       "      <th>bar</th>\n",
       "      <th>buz</th>\n",
       "    </tr>\n",
       "  </thead>\n",
       "  <tbody>\n",
       "    <tr>\n",
       "      <th>0</th>\n",
       "      <td>True</td>\n",
       "      <td>True</td>\n",
       "      <td>True</td>\n",
       "    </tr>\n",
       "    <tr>\n",
       "      <th>1</th>\n",
       "      <td>False</td>\n",
       "      <td>False</td>\n",
       "      <td>False</td>\n",
       "    </tr>\n",
       "    <tr>\n",
       "      <th>2</th>\n",
       "      <td>True</td>\n",
       "      <td>False</td>\n",
       "      <td>True</td>\n",
       "    </tr>\n",
       "    <tr>\n",
       "      <th>3</th>\n",
       "      <td>False</td>\n",
       "      <td>False</td>\n",
       "      <td>True</td>\n",
       "    </tr>\n",
       "  </tbody>\n",
       "</table>\n",
       "</div>"
      ],
      "text/plain": [
       "     foo    bar    buz\n",
       "0   True   True   True\n",
       "1  False  False  False\n",
       "2   True  False   True\n",
       "3  False  False   True"
      ]
     },
     "execution_count": 13,
     "metadata": {},
     "output_type": "execute_result"
    }
   ],
   "source": [
    "boolean_df(x, u)"
   ]
  },
  {
   "cell_type": "code",
   "execution_count": 36,
   "metadata": {},
   "outputs": [],
   "source": [
    "tags_df = boolean_df(tags, ActivitiesCatalog.TAGS)"
   ]
  },
  {
   "cell_type": "code",
   "execution_count": 37,
   "metadata": {},
   "outputs": [
    {
     "data": {
      "text/html": [
       "<div>\n",
       "<style scoped>\n",
       "    .dataframe tbody tr th:only-of-type {\n",
       "        vertical-align: middle;\n",
       "    }\n",
       "\n",
       "    .dataframe tbody tr th {\n",
       "        vertical-align: top;\n",
       "    }\n",
       "\n",
       "    .dataframe thead th {\n",
       "        text-align: right;\n",
       "    }\n",
       "</style>\n",
       "<table border=\"1\" class=\"dataframe\">\n",
       "  <thead>\n",
       "    <tr style=\"text-align: right;\">\n",
       "      <th></th>\n",
       "      <th>learn</th>\n",
       "      <th>do</th>\n",
       "      <th>career</th>\n",
       "      <th>green</th>\n",
       "      <th>red</th>\n",
       "      <th>personal</th>\n",
       "      <th>hobby</th>\n",
       "    </tr>\n",
       "  </thead>\n",
       "  <tbody>\n",
       "    <tr>\n",
       "      <th>0</th>\n",
       "      <td>True</td>\n",
       "      <td>False</td>\n",
       "      <td>True</td>\n",
       "      <td>True</td>\n",
       "      <td>False</td>\n",
       "      <td>False</td>\n",
       "      <td>False</td>\n",
       "    </tr>\n",
       "    <tr>\n",
       "      <th>1</th>\n",
       "      <td>True</td>\n",
       "      <td>False</td>\n",
       "      <td>True</td>\n",
       "      <td>True</td>\n",
       "      <td>False</td>\n",
       "      <td>False</td>\n",
       "      <td>False</td>\n",
       "    </tr>\n",
       "    <tr>\n",
       "      <th>2</th>\n",
       "      <td>True</td>\n",
       "      <td>False</td>\n",
       "      <td>False</td>\n",
       "      <td>True</td>\n",
       "      <td>False</td>\n",
       "      <td>False</td>\n",
       "      <td>True</td>\n",
       "    </tr>\n",
       "    <tr>\n",
       "      <th>3</th>\n",
       "      <td>True</td>\n",
       "      <td>False</td>\n",
       "      <td>False</td>\n",
       "      <td>False</td>\n",
       "      <td>False</td>\n",
       "      <td>True</td>\n",
       "      <td>False</td>\n",
       "    </tr>\n",
       "    <tr>\n",
       "      <th>4</th>\n",
       "      <td>False</td>\n",
       "      <td>True</td>\n",
       "      <td>True</td>\n",
       "      <td>True</td>\n",
       "      <td>False</td>\n",
       "      <td>False</td>\n",
       "      <td>False</td>\n",
       "    </tr>\n",
       "  </tbody>\n",
       "</table>\n",
       "</div>"
      ],
      "text/plain": [
       "   learn     do  career  green    red  personal  hobby\n",
       "0   True  False    True   True  False     False  False\n",
       "1   True  False    True   True  False     False  False\n",
       "2   True  False   False   True  False     False   True\n",
       "3   True  False   False  False  False      True  False\n",
       "4  False   True    True   True  False     False  False"
      ]
     },
     "execution_count": 37,
     "metadata": {},
     "output_type": "execute_result"
    }
   ],
   "source": [
    "tags_df.head()"
   ]
  },
  {
   "cell_type": "markdown",
   "metadata": {},
   "source": [
    "## Create Result Schema"
   ]
  },
  {
   "cell_type": "code",
   "execution_count": 42,
   "metadata": {},
   "outputs": [],
   "source": [
    "from dashboard.load import PomodorosProcessed\n",
    "\n",
    "df = pd.concat([pm.df, tags_df], axis=1)"
   ]
  },
  {
   "cell_type": "code",
   "execution_count": 45,
   "metadata": {},
   "outputs": [
    {
     "data": {
      "text/html": [
       "<div>\n",
       "<style scoped>\n",
       "    .dataframe tbody tr th:only-of-type {\n",
       "        vertical-align: middle;\n",
       "    }\n",
       "\n",
       "    .dataframe tbody tr th {\n",
       "        vertical-align: top;\n",
       "    }\n",
       "\n",
       "    .dataframe thead th {\n",
       "        text-align: right;\n",
       "    }\n",
       "</style>\n",
       "<table border=\"1\" class=\"dataframe\">\n",
       "  <thead>\n",
       "    <tr style=\"text-align: right;\">\n",
       "      <th></th>\n",
       "      <th>Week</th>\n",
       "      <th>Date</th>\n",
       "      <th>Activity</th>\n",
       "      <th>Comment</th>\n",
       "      <th>Pomodoros</th>\n",
       "      <th>Planned</th>\n",
       "      <th>learn</th>\n",
       "      <th>do</th>\n",
       "      <th>career</th>\n",
       "      <th>green</th>\n",
       "      <th>red</th>\n",
       "      <th>personal</th>\n",
       "      <th>hobby</th>\n",
       "    </tr>\n",
       "  </thead>\n",
       "  <tbody>\n",
       "    <tr>\n",
       "      <th>0</th>\n",
       "      <td>2</td>\n",
       "      <td>2021-01-06</td>\n",
       "      <td>Learn/System Design</td>\n",
       "      <td>None</td>\n",
       "      <td>2.0</td>\n",
       "      <td>4.0</td>\n",
       "      <td>True</td>\n",
       "      <td>False</td>\n",
       "      <td>True</td>\n",
       "      <td>True</td>\n",
       "      <td>False</td>\n",
       "      <td>False</td>\n",
       "      <td>False</td>\n",
       "    </tr>\n",
       "    <tr>\n",
       "      <th>1</th>\n",
       "      <td>2</td>\n",
       "      <td>2021-01-06</td>\n",
       "      <td>Learn/Golang</td>\n",
       "      <td>None</td>\n",
       "      <td>2.0</td>\n",
       "      <td>2.0</td>\n",
       "      <td>True</td>\n",
       "      <td>False</td>\n",
       "      <td>True</td>\n",
       "      <td>True</td>\n",
       "      <td>False</td>\n",
       "      <td>False</td>\n",
       "      <td>False</td>\n",
       "    </tr>\n",
       "    <tr>\n",
       "      <th>2</th>\n",
       "      <td>2</td>\n",
       "      <td>2021-01-06</td>\n",
       "      <td>Learn/Graph Algorithms</td>\n",
       "      <td>None</td>\n",
       "      <td>2.0</td>\n",
       "      <td>2.0</td>\n",
       "      <td>True</td>\n",
       "      <td>False</td>\n",
       "      <td>False</td>\n",
       "      <td>True</td>\n",
       "      <td>False</td>\n",
       "      <td>False</td>\n",
       "      <td>True</td>\n",
       "    </tr>\n",
       "    <tr>\n",
       "      <th>3</th>\n",
       "      <td>2</td>\n",
       "      <td>2021-01-06</td>\n",
       "      <td>Learn/Personal Development</td>\n",
       "      <td>None</td>\n",
       "      <td>1.0</td>\n",
       "      <td>1.0</td>\n",
       "      <td>True</td>\n",
       "      <td>False</td>\n",
       "      <td>False</td>\n",
       "      <td>False</td>\n",
       "      <td>False</td>\n",
       "      <td>True</td>\n",
       "      <td>False</td>\n",
       "    </tr>\n",
       "    <tr>\n",
       "      <th>4</th>\n",
       "      <td>2</td>\n",
       "      <td>2021-01-06</td>\n",
       "      <td>Do/Algorithms</td>\n",
       "      <td>None</td>\n",
       "      <td>NaN</td>\n",
       "      <td>2.0</td>\n",
       "      <td>False</td>\n",
       "      <td>True</td>\n",
       "      <td>True</td>\n",
       "      <td>True</td>\n",
       "      <td>False</td>\n",
       "      <td>False</td>\n",
       "      <td>False</td>\n",
       "    </tr>\n",
       "  </tbody>\n",
       "</table>\n",
       "</div>"
      ],
      "text/plain": [
       "   Week       Date                    Activity Comment  Pomodoros  Planned  \\\n",
       "0     2 2021-01-06         Learn/System Design    None        2.0      4.0   \n",
       "1     2 2021-01-06                Learn/Golang    None        2.0      2.0   \n",
       "2     2 2021-01-06      Learn/Graph Algorithms    None        2.0      2.0   \n",
       "3     2 2021-01-06  Learn/Personal Development    None        1.0      1.0   \n",
       "4     2 2021-01-06               Do/Algorithms    None        NaN      2.0   \n",
       "\n",
       "   learn     do  career  green    red  personal  hobby  \n",
       "0   True  False    True   True  False     False  False  \n",
       "1   True  False    True   True  False     False  False  \n",
       "2   True  False   False   True  False     False   True  \n",
       "3   True  False   False  False  False      True  False  \n",
       "4  False   True    True   True  False     False  False  "
      ]
     },
     "execution_count": 45,
     "metadata": {},
     "output_type": "execute_result"
    }
   ],
   "source": [
    "df.head()"
   ]
  },
  {
   "cell_type": "code",
   "execution_count": 46,
   "metadata": {},
   "outputs": [],
   "source": [
    "result = PomodorosProcessed(df)"
   ]
  },
  {
   "cell_type": "code",
   "execution_count": 47,
   "metadata": {},
   "outputs": [
    {
     "data": {
      "text/html": [
       "<div>\n",
       "<style scoped>\n",
       "    .dataframe tbody tr th:only-of-type {\n",
       "        vertical-align: middle;\n",
       "    }\n",
       "\n",
       "    .dataframe tbody tr th {\n",
       "        vertical-align: top;\n",
       "    }\n",
       "\n",
       "    .dataframe thead th {\n",
       "        text-align: right;\n",
       "    }\n",
       "</style>\n",
       "<table border=\"1\" class=\"dataframe\">\n",
       "  <thead>\n",
       "    <tr style=\"text-align: right;\">\n",
       "      <th></th>\n",
       "      <th>Week</th>\n",
       "      <th>Date</th>\n",
       "      <th>Activity</th>\n",
       "      <th>Comment</th>\n",
       "      <th>Pomodoros</th>\n",
       "      <th>Planned</th>\n",
       "      <th>learn</th>\n",
       "      <th>do</th>\n",
       "      <th>career</th>\n",
       "      <th>green</th>\n",
       "      <th>red</th>\n",
       "      <th>personal</th>\n",
       "      <th>hobby</th>\n",
       "    </tr>\n",
       "  </thead>\n",
       "  <tbody>\n",
       "    <tr>\n",
       "      <th>0</th>\n",
       "      <td>2</td>\n",
       "      <td>2021-01-06</td>\n",
       "      <td>Learn/System Design</td>\n",
       "      <td>None</td>\n",
       "      <td>2.0</td>\n",
       "      <td>4.0</td>\n",
       "      <td>True</td>\n",
       "      <td>False</td>\n",
       "      <td>True</td>\n",
       "      <td>True</td>\n",
       "      <td>False</td>\n",
       "      <td>False</td>\n",
       "      <td>False</td>\n",
       "    </tr>\n",
       "    <tr>\n",
       "      <th>1</th>\n",
       "      <td>2</td>\n",
       "      <td>2021-01-06</td>\n",
       "      <td>Learn/Golang</td>\n",
       "      <td>None</td>\n",
       "      <td>2.0</td>\n",
       "      <td>2.0</td>\n",
       "      <td>True</td>\n",
       "      <td>False</td>\n",
       "      <td>True</td>\n",
       "      <td>True</td>\n",
       "      <td>False</td>\n",
       "      <td>False</td>\n",
       "      <td>False</td>\n",
       "    </tr>\n",
       "    <tr>\n",
       "      <th>2</th>\n",
       "      <td>2</td>\n",
       "      <td>2021-01-06</td>\n",
       "      <td>Learn/Graph Algorithms</td>\n",
       "      <td>None</td>\n",
       "      <td>2.0</td>\n",
       "      <td>2.0</td>\n",
       "      <td>True</td>\n",
       "      <td>False</td>\n",
       "      <td>False</td>\n",
       "      <td>True</td>\n",
       "      <td>False</td>\n",
       "      <td>False</td>\n",
       "      <td>True</td>\n",
       "    </tr>\n",
       "    <tr>\n",
       "      <th>3</th>\n",
       "      <td>2</td>\n",
       "      <td>2021-01-06</td>\n",
       "      <td>Learn/Personal Development</td>\n",
       "      <td>None</td>\n",
       "      <td>1.0</td>\n",
       "      <td>1.0</td>\n",
       "      <td>True</td>\n",
       "      <td>False</td>\n",
       "      <td>False</td>\n",
       "      <td>False</td>\n",
       "      <td>False</td>\n",
       "      <td>True</td>\n",
       "      <td>False</td>\n",
       "    </tr>\n",
       "    <tr>\n",
       "      <th>4</th>\n",
       "      <td>2</td>\n",
       "      <td>2021-01-06</td>\n",
       "      <td>Do/Algorithms</td>\n",
       "      <td>None</td>\n",
       "      <td>NaN</td>\n",
       "      <td>2.0</td>\n",
       "      <td>False</td>\n",
       "      <td>True</td>\n",
       "      <td>True</td>\n",
       "      <td>True</td>\n",
       "      <td>False</td>\n",
       "      <td>False</td>\n",
       "      <td>False</td>\n",
       "    </tr>\n",
       "  </tbody>\n",
       "</table>\n",
       "</div>"
      ],
      "text/plain": [
       "   Week       Date                    Activity Comment  Pomodoros  Planned  \\\n",
       "0     2 2021-01-06         Learn/System Design    None        2.0      4.0   \n",
       "1     2 2021-01-06                Learn/Golang    None        2.0      2.0   \n",
       "2     2 2021-01-06      Learn/Graph Algorithms    None        2.0      2.0   \n",
       "3     2 2021-01-06  Learn/Personal Development    None        1.0      1.0   \n",
       "4     2 2021-01-06               Do/Algorithms    None        NaN      2.0   \n",
       "\n",
       "   learn     do  career  green    red  personal  hobby  \n",
       "0   True  False    True   True  False     False  False  \n",
       "1   True  False    True   True  False     False  False  \n",
       "2   True  False   False   True  False     False   True  \n",
       "3   True  False   False  False  False      True  False  \n",
       "4  False   True    True   True  False     False  False  "
      ]
     },
     "execution_count": 47,
     "metadata": {},
     "output_type": "execute_result"
    }
   ],
   "source": [
    "result.df.head()"
   ]
  }
 ],
 "metadata": {
  "kernelspec": {
   "display_name": "Python 3",
   "language": "python",
   "name": "python3"
  },
  "language_info": {
   "codemirror_mode": {
    "name": "ipython",
    "version": 3
   },
   "file_extension": ".py",
   "mimetype": "text/x-python",
   "name": "python",
   "nbconvert_exporter": "python",
   "pygments_lexer": "ipython3",
   "version": "3.7.3"
  }
 },
 "nbformat": 4,
 "nbformat_minor": 4
}
