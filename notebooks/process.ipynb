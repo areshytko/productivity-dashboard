{
 "cells": [
  {
   "cell_type": "code",
   "execution_count": 1,
   "id": "bcbfce66",
   "metadata": {},
   "outputs": [
    {
     "name": "stdout",
     "output_type": "stream",
     "text": [
      "/Users/areshytko/repos/productivity-dashboard\n"
     ]
    },
    {
     "data": {
      "text/plain": [
       "'/Users/areshytko/repos/productivity-dashboard'"
      ]
     },
     "execution_count": 1,
     "metadata": {},
     "output_type": "execute_result"
    }
   ],
   "source": [
    "%cd ..\n",
    "%pwd"
   ]
  },
  {
   "cell_type": "markdown",
   "id": "8b4db165",
   "metadata": {},
   "source": [
    "## Load data"
   ]
  },
  {
   "cell_type": "code",
   "execution_count": 2,
   "id": "15b466bb",
   "metadata": {},
   "outputs": [
    {
     "name": "stderr",
     "output_type": "stream",
     "text": [
      "/Users/areshytko/repos/productivity-dashboard/.venv/lib/python3.9/site-packages/pandas/compat/__init__.py:97: UserWarning: Could not import the lzma module. Your installed Python is incomplete. Attempting to use lzma compression will result in a RuntimeError.\n",
      "  warnings.warn(msg)\n"
     ]
    }
   ],
   "source": [
    "from dashboard.load import load\n",
    "import dashboard.config as config \n",
    "from dashboard.gheets import ManualFlow\n",
    "\n",
    "import json"
   ]
  },
  {
   "cell_type": "code",
   "execution_count": 3,
   "id": "f46bb023",
   "metadata": {},
   "outputs": [],
   "source": [
    "flow = ManualFlow()\n",
    "url = flow.get_url()\n",
    "with open('notebooks/url.json', 'w') as wf:\n",
    "    json.dump(url, wf)"
   ]
  },
  {
   "cell_type": "code",
   "execution_count": 4,
   "id": "7715a8f9",
   "metadata": {},
   "outputs": [],
   "source": [
    "flow.put_code(\"4/1AY0e-g5XNIzd3u-AMkZxqjo4XaitG6m2vrizO2od2U8FCi6pOy6sZ7TI4Fo\")"
   ]
  },
  {
   "cell_type": "code",
   "execution_count": 4,
   "id": "40305163",
   "metadata": {},
   "outputs": [],
   "source": [
    "creds = flow.get_google_token()"
   ]
  },
  {
   "cell_type": "code",
   "execution_count": 5,
   "id": "8e3d2ec9",
   "metadata": {},
   "outputs": [],
   "source": [
    "data = load(\n",
    "    credentials=creds,\n",
    "    pomodoros_spreadsheet_id=config.POMODOROS_SPREADSHEET_ID,\n",
    "    pomodoros_range=config.POMODOROS_RANGE,\n",
    "    activities_spreadsheet_id=config.ACTIVITIES_SPREADSHEET_ID,\n",
    "    activities_range=config.ACTIVITIES_RANGE\n",
    ")"
   ]
  },
  {
   "cell_type": "code",
   "execution_count": 6,
   "id": "97e443be",
   "metadata": {},
   "outputs": [
    {
     "data": {
      "text/html": [
       "<div>\n",
       "<style scoped>\n",
       "    .dataframe tbody tr th:only-of-type {\n",
       "        vertical-align: middle;\n",
       "    }\n",
       "\n",
       "    .dataframe tbody tr th {\n",
       "        vertical-align: top;\n",
       "    }\n",
       "\n",
       "    .dataframe thead th {\n",
       "        text-align: right;\n",
       "    }\n",
       "</style>\n",
       "<table border=\"1\" class=\"dataframe\">\n",
       "  <thead>\n",
       "    <tr style=\"text-align: right;\">\n",
       "      <th></th>\n",
       "      <th>Week</th>\n",
       "      <th>Date</th>\n",
       "      <th>Activity</th>\n",
       "      <th>Comment</th>\n",
       "      <th>Pomodoros</th>\n",
       "      <th>Planned</th>\n",
       "      <th>learn</th>\n",
       "      <th>do</th>\n",
       "      <th>career</th>\n",
       "      <th>green</th>\n",
       "      <th>red</th>\n",
       "      <th>personal</th>\n",
       "      <th>hobby</th>\n",
       "      <th>society</th>\n",
       "      <th>life</th>\n",
       "      <th>health</th>\n",
       "    </tr>\n",
       "  </thead>\n",
       "  <tbody>\n",
       "    <tr>\n",
       "      <th>0</th>\n",
       "      <td>2</td>\n",
       "      <td>2021-01-06</td>\n",
       "      <td>Learn/System Design</td>\n",
       "      <td>None</td>\n",
       "      <td>2.0</td>\n",
       "      <td>4.0</td>\n",
       "      <td>True</td>\n",
       "      <td>False</td>\n",
       "      <td>True</td>\n",
       "      <td>True</td>\n",
       "      <td>False</td>\n",
       "      <td>False</td>\n",
       "      <td>False</td>\n",
       "      <td>False</td>\n",
       "      <td>False</td>\n",
       "      <td>False</td>\n",
       "    </tr>\n",
       "    <tr>\n",
       "      <th>1</th>\n",
       "      <td>2</td>\n",
       "      <td>2021-01-06</td>\n",
       "      <td>Learn/Golang</td>\n",
       "      <td>None</td>\n",
       "      <td>2.0</td>\n",
       "      <td>2.0</td>\n",
       "      <td>True</td>\n",
       "      <td>False</td>\n",
       "      <td>True</td>\n",
       "      <td>True</td>\n",
       "      <td>False</td>\n",
       "      <td>False</td>\n",
       "      <td>False</td>\n",
       "      <td>False</td>\n",
       "      <td>False</td>\n",
       "      <td>False</td>\n",
       "    </tr>\n",
       "    <tr>\n",
       "      <th>2</th>\n",
       "      <td>2</td>\n",
       "      <td>2021-01-06</td>\n",
       "      <td>Learn/Graph Algorithms</td>\n",
       "      <td>None</td>\n",
       "      <td>2.0</td>\n",
       "      <td>2.0</td>\n",
       "      <td>True</td>\n",
       "      <td>False</td>\n",
       "      <td>False</td>\n",
       "      <td>True</td>\n",
       "      <td>False</td>\n",
       "      <td>False</td>\n",
       "      <td>True</td>\n",
       "      <td>False</td>\n",
       "      <td>False</td>\n",
       "      <td>False</td>\n",
       "    </tr>\n",
       "    <tr>\n",
       "      <th>3</th>\n",
       "      <td>2</td>\n",
       "      <td>2021-01-06</td>\n",
       "      <td>Learn/Personal Development</td>\n",
       "      <td>None</td>\n",
       "      <td>1.0</td>\n",
       "      <td>1.0</td>\n",
       "      <td>True</td>\n",
       "      <td>False</td>\n",
       "      <td>False</td>\n",
       "      <td>False</td>\n",
       "      <td>False</td>\n",
       "      <td>True</td>\n",
       "      <td>False</td>\n",
       "      <td>False</td>\n",
       "      <td>False</td>\n",
       "      <td>False</td>\n",
       "    </tr>\n",
       "    <tr>\n",
       "      <th>4</th>\n",
       "      <td>2</td>\n",
       "      <td>2021-01-06</td>\n",
       "      <td>Do/Algorithms</td>\n",
       "      <td>None</td>\n",
       "      <td>NaN</td>\n",
       "      <td>2.0</td>\n",
       "      <td>False</td>\n",
       "      <td>True</td>\n",
       "      <td>True</td>\n",
       "      <td>True</td>\n",
       "      <td>False</td>\n",
       "      <td>False</td>\n",
       "      <td>False</td>\n",
       "      <td>False</td>\n",
       "      <td>False</td>\n",
       "      <td>False</td>\n",
       "    </tr>\n",
       "  </tbody>\n",
       "</table>\n",
       "</div>"
      ],
      "text/plain": [
       "   Week       Date                    Activity Comment  Pomodoros  Planned  \\\n",
       "0     2 2021-01-06         Learn/System Design    None        2.0      4.0   \n",
       "1     2 2021-01-06                Learn/Golang    None        2.0      2.0   \n",
       "2     2 2021-01-06      Learn/Graph Algorithms    None        2.0      2.0   \n",
       "3     2 2021-01-06  Learn/Personal Development    None        1.0      1.0   \n",
       "4     2 2021-01-06               Do/Algorithms    None        NaN      2.0   \n",
       "\n",
       "   learn     do  career  green    red  personal  hobby  society   life  health  \n",
       "0   True  False    True   True  False     False  False    False  False   False  \n",
       "1   True  False    True   True  False     False  False    False  False   False  \n",
       "2   True  False   False   True  False     False   True    False  False   False  \n",
       "3   True  False   False  False  False      True  False    False  False   False  \n",
       "4  False   True    True   True  False     False  False    False  False   False  "
      ]
     },
     "execution_count": 6,
     "metadata": {},
     "output_type": "execute_result"
    }
   ],
   "source": [
    "data.df.head()"
   ]
  },
  {
   "cell_type": "markdown",
   "id": "23f8d4bb",
   "metadata": {},
   "source": [
    "## Process data"
   ]
  },
  {
   "cell_type": "code",
   "execution_count": 8,
   "id": "63cdc607",
   "metadata": {},
   "outputs": [
    {
     "data": {
      "text/html": [
       "<div>\n",
       "<style scoped>\n",
       "    .dataframe tbody tr th:only-of-type {\n",
       "        vertical-align: middle;\n",
       "    }\n",
       "\n",
       "    .dataframe tbody tr th {\n",
       "        vertical-align: top;\n",
       "    }\n",
       "\n",
       "    .dataframe thead th {\n",
       "        text-align: right;\n",
       "    }\n",
       "</style>\n",
       "<table border=\"1\" class=\"dataframe\">\n",
       "  <thead>\n",
       "    <tr style=\"text-align: right;\">\n",
       "      <th></th>\n",
       "      <th>Week</th>\n",
       "      <th>from_date</th>\n",
       "      <th>to_date</th>\n",
       "      <th>done</th>\n",
       "      <th>planned</th>\n",
       "      <th>avg_done</th>\n",
       "      <th>avg_planned</th>\n",
       "      <th>do_learn_ratio</th>\n",
       "      <th>red_green_ratio</th>\n",
       "      <th>balance_coef</th>\n",
       "      <th>complete_rate</th>\n",
       "    </tr>\n",
       "  </thead>\n",
       "  <tbody>\n",
       "    <tr>\n",
       "      <th>0</th>\n",
       "      <td>2</td>\n",
       "      <td>2021-01-06</td>\n",
       "      <td>2021-01-10</td>\n",
       "      <td>17.0</td>\n",
       "      <td>57.0</td>\n",
       "      <td>2.428571</td>\n",
       "      <td>8.142857</td>\n",
       "      <td>0.117647</td>\n",
       "      <td>0.000000</td>\n",
       "      <td>0.384001</td>\n",
       "      <td>0.298246</td>\n",
       "    </tr>\n",
       "    <tr>\n",
       "      <th>1</th>\n",
       "      <td>3</td>\n",
       "      <td>2021-01-11</td>\n",
       "      <td>2021-01-17</td>\n",
       "      <td>100.0</td>\n",
       "      <td>120.0</td>\n",
       "      <td>14.285714</td>\n",
       "      <td>17.142857</td>\n",
       "      <td>0.939394</td>\n",
       "      <td>0.010417</td>\n",
       "      <td>0.331964</td>\n",
       "      <td>0.833333</td>\n",
       "    </tr>\n",
       "    <tr>\n",
       "      <th>2</th>\n",
       "      <td>4</td>\n",
       "      <td>2021-01-18</td>\n",
       "      <td>2021-01-24</td>\n",
       "      <td>20.0</td>\n",
       "      <td>58.0</td>\n",
       "      <td>2.857143</td>\n",
       "      <td>8.285714</td>\n",
       "      <td>0.000000</td>\n",
       "      <td>0.000000</td>\n",
       "      <td>0.158114</td>\n",
       "      <td>0.344828</td>\n",
       "    </tr>\n",
       "    <tr>\n",
       "      <th>3</th>\n",
       "      <td>5</td>\n",
       "      <td>2021-01-25</td>\n",
       "      <td>2021-01-31</td>\n",
       "      <td>39.0</td>\n",
       "      <td>58.0</td>\n",
       "      <td>5.571429</td>\n",
       "      <td>8.285714</td>\n",
       "      <td>0.162162</td>\n",
       "      <td>0.058824</td>\n",
       "      <td>0.181010</td>\n",
       "      <td>0.672414</td>\n",
       "    </tr>\n",
       "    <tr>\n",
       "      <th>4</th>\n",
       "      <td>6</td>\n",
       "      <td>2021-02-01</td>\n",
       "      <td>2021-02-14</td>\n",
       "      <td>69.0</td>\n",
       "      <td>106.0</td>\n",
       "      <td>9.857143</td>\n",
       "      <td>15.142857</td>\n",
       "      <td>0.462963</td>\n",
       "      <td>0.193548</td>\n",
       "      <td>0.256130</td>\n",
       "      <td>0.650943</td>\n",
       "    </tr>\n",
       "  </tbody>\n",
       "</table>\n",
       "</div>"
      ],
      "text/plain": [
       "   Week  from_date    to_date   done  planned   avg_done  avg_planned  \\\n",
       "0     2 2021-01-06 2021-01-10   17.0     57.0   2.428571     8.142857   \n",
       "1     3 2021-01-11 2021-01-17  100.0    120.0  14.285714    17.142857   \n",
       "2     4 2021-01-18 2021-01-24   20.0     58.0   2.857143     8.285714   \n",
       "3     5 2021-01-25 2021-01-31   39.0     58.0   5.571429     8.285714   \n",
       "4     6 2021-02-01 2021-02-14   69.0    106.0   9.857143    15.142857   \n",
       "\n",
       "   do_learn_ratio  red_green_ratio  balance_coef  complete_rate  \n",
       "0        0.117647         0.000000      0.384001       0.298246  \n",
       "1        0.939394         0.010417      0.331964       0.833333  \n",
       "2        0.000000         0.000000      0.158114       0.344828  \n",
       "3        0.162162         0.058824      0.181010       0.672414  \n",
       "4        0.462963         0.193548      0.256130       0.650943  "
      ]
     },
     "execution_count": 8,
     "metadata": {},
     "output_type": "execute_result"
    }
   ],
   "source": [
    "from dashboard.process import compute_weekly_stats\n",
    "\n",
    "weekly_stats = compute_weekly_stats(data)\n",
    "\n",
    "weekly_stats.df.head()"
   ]
  },
  {
   "cell_type": "markdown",
   "id": "dbaf66f5",
   "metadata": {},
   "source": [
    "## Get current week"
   ]
  },
  {
   "cell_type": "code",
   "execution_count": 10,
   "id": "498d9d5d",
   "metadata": {},
   "outputs": [],
   "source": [
    "x = weekly_stats.df.loc[weekly_stats.df.Week == weekly_stats.df.Week.max(), :]"
   ]
  },
  {
   "cell_type": "code",
   "execution_count": 26,
   "id": "200d95ce",
   "metadata": {},
   "outputs": [
    {
     "data": {
      "text/plain": [
       "True"
      ]
     },
     "execution_count": 26,
     "metadata": {},
     "output_type": "execute_result"
    }
   ],
   "source": [
    "import datetime\n",
    "today = datetime.date.today()\n",
    "\n",
    "x.from_date.iloc[0] <= today <= x.to_date.iloc[0]"
   ]
  },
  {
   "cell_type": "code",
   "execution_count": 27,
   "id": "d3dc29c1",
   "metadata": {},
   "outputs": [
    {
     "data": {
      "text/html": [
       "<div>\n",
       "<style scoped>\n",
       "    .dataframe tbody tr th:only-of-type {\n",
       "        vertical-align: middle;\n",
       "    }\n",
       "\n",
       "    .dataframe tbody tr th {\n",
       "        vertical-align: top;\n",
       "    }\n",
       "\n",
       "    .dataframe thead th {\n",
       "        text-align: right;\n",
       "    }\n",
       "</style>\n",
       "<table border=\"1\" class=\"dataframe\">\n",
       "  <thead>\n",
       "    <tr style=\"text-align: right;\">\n",
       "      <th></th>\n",
       "      <th>Week</th>\n",
       "      <th>from_date</th>\n",
       "      <th>to_date</th>\n",
       "      <th>done</th>\n",
       "      <th>planned</th>\n",
       "      <th>avg_done</th>\n",
       "      <th>avg_planned</th>\n",
       "      <th>do_learn_ratio</th>\n",
       "      <th>red_green_ratio</th>\n",
       "      <th>balance_coef</th>\n",
       "      <th>complete_rate</th>\n",
       "    </tr>\n",
       "  </thead>\n",
       "  <tbody>\n",
       "    <tr>\n",
       "      <th>10</th>\n",
       "      <td>14</td>\n",
       "      <td>2021-04-05</td>\n",
       "      <td>2021-04-11</td>\n",
       "      <td>11.0</td>\n",
       "      <td>0.0</td>\n",
       "      <td>1.571429</td>\n",
       "      <td>0.0</td>\n",
       "      <td>0.636364</td>\n",
       "      <td>0.0</td>\n",
       "      <td>0.883901</td>\n",
       "      <td>inf</td>\n",
       "    </tr>\n",
       "  </tbody>\n",
       "</table>\n",
       "</div>"
      ],
      "text/plain": [
       "    Week  from_date    to_date  done  planned  avg_done  avg_planned  \\\n",
       "10    14 2021-04-05 2021-04-11  11.0      0.0  1.571429          0.0   \n",
       "\n",
       "    do_learn_ratio  red_green_ratio  balance_coef  complete_rate  \n",
       "10        0.636364              0.0      0.883901            inf  "
      ]
     },
     "execution_count": 27,
     "metadata": {},
     "output_type": "execute_result"
    }
   ],
   "source": [
    "x"
   ]
  },
  {
   "cell_type": "markdown",
   "id": "2e7ad679",
   "metadata": {},
   "source": [
    "## Get sliding window"
   ]
  },
  {
   "cell_type": "code",
   "execution_count": 32,
   "id": "7353da4f",
   "metadata": {},
   "outputs": [
    {
     "data": {
      "text/html": [
       "<div>\n",
       "<style scoped>\n",
       "    .dataframe tbody tr th:only-of-type {\n",
       "        vertical-align: middle;\n",
       "    }\n",
       "\n",
       "    .dataframe tbody tr th {\n",
       "        vertical-align: top;\n",
       "    }\n",
       "\n",
       "    .dataframe thead th {\n",
       "        text-align: right;\n",
       "    }\n",
       "</style>\n",
       "<table border=\"1\" class=\"dataframe\">\n",
       "  <thead>\n",
       "    <tr style=\"text-align: right;\">\n",
       "      <th></th>\n",
       "      <th>Week</th>\n",
       "      <th>from_date</th>\n",
       "      <th>to_date</th>\n",
       "      <th>done</th>\n",
       "      <th>planned</th>\n",
       "      <th>avg_done</th>\n",
       "      <th>avg_planned</th>\n",
       "      <th>do_learn_ratio</th>\n",
       "      <th>red_green_ratio</th>\n",
       "      <th>balance_coef</th>\n",
       "      <th>complete_rate</th>\n",
       "    </tr>\n",
       "  </thead>\n",
       "  <tbody>\n",
       "    <tr>\n",
       "      <th>7</th>\n",
       "      <td>11</td>\n",
       "      <td>2021-03-15</td>\n",
       "      <td>2021-03-21</td>\n",
       "      <td>27.0</td>\n",
       "      <td>39.0</td>\n",
       "      <td>3.857143</td>\n",
       "      <td>5.571429</td>\n",
       "      <td>0.481481</td>\n",
       "      <td>0.000000</td>\n",
       "      <td>0.433847</td>\n",
       "      <td>0.692308</td>\n",
       "    </tr>\n",
       "    <tr>\n",
       "      <th>8</th>\n",
       "      <td>12</td>\n",
       "      <td>2021-03-22</td>\n",
       "      <td>2021-03-28</td>\n",
       "      <td>23.0</td>\n",
       "      <td>0.0</td>\n",
       "      <td>3.285714</td>\n",
       "      <td>0.000000</td>\n",
       "      <td>0.300000</td>\n",
       "      <td>0.722222</td>\n",
       "      <td>0.304705</td>\n",
       "      <td>inf</td>\n",
       "    </tr>\n",
       "    <tr>\n",
       "      <th>9</th>\n",
       "      <td>13</td>\n",
       "      <td>2021-03-29</td>\n",
       "      <td>2021-04-04</td>\n",
       "      <td>8.0</td>\n",
       "      <td>0.0</td>\n",
       "      <td>1.142857</td>\n",
       "      <td>0.000000</td>\n",
       "      <td>1.000000</td>\n",
       "      <td>0.375000</td>\n",
       "      <td>0.539676</td>\n",
       "      <td>inf</td>\n",
       "    </tr>\n",
       "  </tbody>\n",
       "</table>\n",
       "</div>"
      ],
      "text/plain": [
       "   Week  from_date    to_date  done  planned  avg_done  avg_planned  \\\n",
       "7    11 2021-03-15 2021-03-21  27.0     39.0  3.857143     5.571429   \n",
       "8    12 2021-03-22 2021-03-28  23.0      0.0  3.285714     0.000000   \n",
       "9    13 2021-03-29 2021-04-04   8.0      0.0  1.142857     0.000000   \n",
       "\n",
       "   do_learn_ratio  red_green_ratio  balance_coef  complete_rate  \n",
       "7        0.481481         0.000000      0.433847       0.692308  \n",
       "8        0.300000         0.722222      0.304705            inf  \n",
       "9        1.000000         0.375000      0.539676            inf  "
      ]
     },
     "execution_count": 32,
     "metadata": {},
     "output_type": "execute_result"
    }
   ],
   "source": [
    "current = x.Week.iloc[0]\n",
    "\n",
    "weekly_stats.df.loc[ (current - weekly_stats.df.Week <= 3) & (current - weekly_stats.df.Week > 0), :]"
   ]
  },
  {
   "cell_type": "markdown",
   "id": "7c06720b",
   "metadata": {},
   "source": [
    "## Get zone"
   ]
  },
  {
   "cell_type": "code",
   "execution_count": 35,
   "id": "f89a881c",
   "metadata": {},
   "outputs": [
    {
     "data": {
      "text/plain": [
       "datetime.date(2021, 4, 6)"
      ]
     },
     "execution_count": 35,
     "metadata": {},
     "output_type": "execute_result"
    }
   ],
   "source": [
    "today"
   ]
  },
  {
   "cell_type": "code",
   "execution_count": 34,
   "id": "b6c35cdc",
   "metadata": {},
   "outputs": [
    {
     "data": {
      "text/plain": [
       "1"
      ]
     },
     "execution_count": 34,
     "metadata": {},
     "output_type": "execute_result"
    }
   ],
   "source": [
    "today.weekday()"
   ]
  },
  {
   "cell_type": "code",
   "execution_count": 36,
   "id": "f79a8004",
   "metadata": {},
   "outputs": [
    {
     "data": {
      "text/plain": [
       "0"
      ]
     },
     "execution_count": 36,
     "metadata": {},
     "output_type": "execute_result"
    }
   ],
   "source": [
    "datetime.date(2021, 4, 5).weekday()"
   ]
  },
  {
   "cell_type": "code",
   "execution_count": 37,
   "id": "46709077",
   "metadata": {},
   "outputs": [
    {
     "data": {
      "text/plain": [
       "6"
      ]
     },
     "execution_count": 37,
     "metadata": {},
     "output_type": "execute_result"
    }
   ],
   "source": [
    "7 - today.weekday()"
   ]
  },
  {
   "cell_type": "markdown",
   "id": "68b3c711",
   "metadata": {},
   "source": [
    "## Suggested action"
   ]
  },
  {
   "cell_type": "code",
   "execution_count": 51,
   "id": "20ae169d",
   "metadata": {},
   "outputs": [
    {
     "data": {
      "text/html": [
       "<div>\n",
       "<style scoped>\n",
       "    .dataframe tbody tr th:only-of-type {\n",
       "        vertical-align: middle;\n",
       "    }\n",
       "\n",
       "    .dataframe tbody tr th {\n",
       "        vertical-align: top;\n",
       "    }\n",
       "\n",
       "    .dataframe thead th {\n",
       "        text-align: right;\n",
       "    }\n",
       "</style>\n",
       "<table border=\"1\" class=\"dataframe\">\n",
       "  <thead>\n",
       "    <tr style=\"text-align: right;\">\n",
       "      <th></th>\n",
       "      <th>Week</th>\n",
       "      <th>Date</th>\n",
       "      <th>Activity</th>\n",
       "      <th>Comment</th>\n",
       "      <th>Pomodoros</th>\n",
       "      <th>Planned</th>\n",
       "      <th>learn</th>\n",
       "      <th>do</th>\n",
       "      <th>career</th>\n",
       "      <th>green</th>\n",
       "      <th>red</th>\n",
       "      <th>personal</th>\n",
       "      <th>hobby</th>\n",
       "      <th>society</th>\n",
       "      <th>life</th>\n",
       "      <th>health</th>\n",
       "    </tr>\n",
       "  </thead>\n",
       "  <tbody>\n",
       "    <tr>\n",
       "      <th>402</th>\n",
       "      <td>14</td>\n",
       "      <td>2021-04-06</td>\n",
       "      <td>Do/Work</td>\n",
       "      <td>None</td>\n",
       "      <td>NaN</td>\n",
       "      <td>NaN</td>\n",
       "      <td>False</td>\n",
       "      <td>False</td>\n",
       "      <td>True</td>\n",
       "      <td>False</td>\n",
       "      <td>True</td>\n",
       "      <td>False</td>\n",
       "      <td>False</td>\n",
       "      <td>False</td>\n",
       "      <td>False</td>\n",
       "      <td>False</td>\n",
       "    </tr>\n",
       "    <tr>\n",
       "      <th>403</th>\n",
       "      <td>14</td>\n",
       "      <td>2021-04-06</td>\n",
       "      <td>Learn/Medium Articles</td>\n",
       "      <td>узнать по визе, договориться по поводу отпуска...</td>\n",
       "      <td>NaN</td>\n",
       "      <td>NaN</td>\n",
       "      <td>True</td>\n",
       "      <td>False</td>\n",
       "      <td>False</td>\n",
       "      <td>True</td>\n",
       "      <td>False</td>\n",
       "      <td>False</td>\n",
       "      <td>False</td>\n",
       "      <td>False</td>\n",
       "      <td>False</td>\n",
       "      <td>False</td>\n",
       "    </tr>\n",
       "    <tr>\n",
       "      <th>404</th>\n",
       "      <td>14</td>\n",
       "      <td>2021-04-06</td>\n",
       "      <td>Learn/Data Engineering</td>\n",
       "      <td>Spark course</td>\n",
       "      <td>NaN</td>\n",
       "      <td>NaN</td>\n",
       "      <td>True</td>\n",
       "      <td>False</td>\n",
       "      <td>True</td>\n",
       "      <td>True</td>\n",
       "      <td>False</td>\n",
       "      <td>False</td>\n",
       "      <td>False</td>\n",
       "      <td>False</td>\n",
       "      <td>False</td>\n",
       "      <td>False</td>\n",
       "    </tr>\n",
       "    <tr>\n",
       "      <th>405</th>\n",
       "      <td>14</td>\n",
       "      <td>2021-04-06</td>\n",
       "      <td>Personal Dashboard</td>\n",
       "      <td>None</td>\n",
       "      <td>1.0</td>\n",
       "      <td>NaN</td>\n",
       "      <td>False</td>\n",
       "      <td>True</td>\n",
       "      <td>False</td>\n",
       "      <td>True</td>\n",
       "      <td>False</td>\n",
       "      <td>False</td>\n",
       "      <td>True</td>\n",
       "      <td>False</td>\n",
       "      <td>False</td>\n",
       "      <td>False</td>\n",
       "    </tr>\n",
       "    <tr>\n",
       "      <th>406</th>\n",
       "      <td>14</td>\n",
       "      <td>2021-04-06</td>\n",
       "      <td>Learn/How to Write</td>\n",
       "      <td>None</td>\n",
       "      <td>NaN</td>\n",
       "      <td>NaN</td>\n",
       "      <td>True</td>\n",
       "      <td>False</td>\n",
       "      <td>False</td>\n",
       "      <td>True</td>\n",
       "      <td>False</td>\n",
       "      <td>True</td>\n",
       "      <td>False</td>\n",
       "      <td>True</td>\n",
       "      <td>False</td>\n",
       "      <td>False</td>\n",
       "    </tr>\n",
       "  </tbody>\n",
       "</table>\n",
       "</div>"
      ],
      "text/plain": [
       "     Week       Date                Activity  \\\n",
       "402    14 2021-04-06                 Do/Work   \n",
       "403    14 2021-04-06   Learn/Medium Articles   \n",
       "404    14 2021-04-06  Learn/Data Engineering   \n",
       "405    14 2021-04-06      Personal Dashboard   \n",
       "406    14 2021-04-06      Learn/How to Write   \n",
       "\n",
       "                                               Comment  Pomodoros  Planned  \\\n",
       "402                                               None        NaN      NaN   \n",
       "403  узнать по визе, договориться по поводу отпуска...        NaN      NaN   \n",
       "404                                       Spark course        NaN      NaN   \n",
       "405                                               None        1.0      NaN   \n",
       "406                                               None        NaN      NaN   \n",
       "\n",
       "     learn     do  career  green    red  personal  hobby  society   life  \\\n",
       "402  False  False    True  False   True     False  False    False  False   \n",
       "403   True  False   False   True  False     False  False    False  False   \n",
       "404   True  False    True   True  False     False  False    False  False   \n",
       "405  False   True   False   True  False     False   True    False  False   \n",
       "406   True  False   False   True  False      True  False     True  False   \n",
       "\n",
       "     health  \n",
       "402   False  \n",
       "403   False  \n",
       "404   False  \n",
       "405   False  \n",
       "406   False  "
      ]
     },
     "execution_count": 51,
     "metadata": {},
     "output_type": "execute_result"
    }
   ],
   "source": [
    "data.df.loc[data.df.Date == pd.to_datetime(today), :]"
   ]
  },
  {
   "cell_type": "code",
   "execution_count": 40,
   "id": "81190a3d",
   "metadata": {},
   "outputs": [
    {
     "data": {
      "text/plain": [
       "datetime.date(2021, 4, 6)"
      ]
     },
     "execution_count": 40,
     "metadata": {},
     "output_type": "execute_result"
    }
   ],
   "source": [
    "today"
   ]
  },
  {
   "cell_type": "code",
   "execution_count": 49,
   "id": "c99dfe14",
   "metadata": {},
   "outputs": [
    {
     "data": {
      "text/plain": [
       "Timestamp('2021-04-06 00:00:00')"
      ]
     },
     "execution_count": 49,
     "metadata": {},
     "output_type": "execute_result"
    }
   ],
   "source": [
    "import pandas as pd\n",
    "pd.to_datetime(today)"
   ]
  },
  {
   "cell_type": "code",
   "execution_count": 44,
   "id": "89a7d7ef",
   "metadata": {},
   "outputs": [
    {
     "name": "stdout",
     "output_type": "stream",
     "text": [
      "<class 'pandas.core.frame.DataFrame'>\n",
      "RangeIndex: 431 entries, 0 to 430\n",
      "Data columns (total 16 columns):\n",
      " #   Column     Non-Null Count  Dtype         \n",
      "---  ------     --------------  -----         \n",
      " 0   Week       431 non-null    int16         \n",
      " 1   Date       431 non-null    datetime64[ns]\n",
      " 2   Activity   431 non-null    object        \n",
      " 3   Comment    106 non-null    object        \n",
      " 4   Pomodoros  119 non-null    float64       \n",
      " 5   Planned    229 non-null    float64       \n",
      " 6   learn      431 non-null    bool          \n",
      " 7   do         431 non-null    bool          \n",
      " 8   career     431 non-null    bool          \n",
      " 9   green      431 non-null    bool          \n",
      " 10  red        431 non-null    bool          \n",
      " 11  personal   431 non-null    bool          \n",
      " 12  hobby      431 non-null    bool          \n",
      " 13  society    431 non-null    bool          \n",
      " 14  life       431 non-null    bool          \n",
      " 15  health     431 non-null    bool          \n",
      "dtypes: bool(10), datetime64[ns](1), float64(2), int16(1), object(2)\n",
      "memory usage: 22.0+ KB\n"
     ]
    }
   ],
   "source": [
    "data.df.info()"
   ]
  },
  {
   "cell_type": "code",
   "execution_count": 59,
   "id": "d3529ab7",
   "metadata": {},
   "outputs": [
    {
     "data": {
      "text/plain": [
       "Week     8.5\n",
       "done    24.0\n",
       "dtype: float64"
      ]
     },
     "execution_count": 59,
     "metadata": {},
     "output_type": "execute_result"
    }
   ],
   "source": [
    "weekly_stats.df.loc[(weekly_stats.df.Week > 3) & (weekly_stats.df.Week < 14),['Week', 'done']].median()"
   ]
  },
  {
   "cell_type": "code",
   "execution_count": null,
   "id": "98ff787f",
   "metadata": {},
   "outputs": [],
   "source": []
  }
 ],
 "metadata": {
  "kernelspec": {
   "display_name": "Python 3",
   "language": "python",
   "name": "python3"
  },
  "language_info": {
   "codemirror_mode": {
    "name": "ipython",
    "version": 3
   },
   "file_extension": ".py",
   "mimetype": "text/x-python",
   "name": "python",
   "nbconvert_exporter": "python",
   "pygments_lexer": "ipython3",
   "version": "3.9.2"
  }
 },
 "nbformat": 4,
 "nbformat_minor": 5
}
